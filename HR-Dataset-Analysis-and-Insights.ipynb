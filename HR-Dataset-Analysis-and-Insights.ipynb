{
 "cells": [
  {
   "cell_type": "markdown",
   "id": "6e57d77c-d01e-4394-b006-4d9e648e9fe5",
   "metadata": {},
   "source": [
    "# Unlocking Insights: Exploring Human Resources Dynamics"
   ]
  },
  {
   "cell_type": "markdown",
   "id": "780f5ec6-d8ff-4f46-9000-88c6b23fc779",
   "metadata": {},
   "source": [
    "**Author:** Dan H.<br>\n",
    "**Date Last Updated:** 14th March 2024<br>\n",
    "**GitHub Repository:** https://github.com/DanPkg/HR-Analytics-Insights-Project"
   ]
  },
  {
   "cell_type": "markdown",
   "id": "a18fb627-331a-4686-bb71-c1830b793533",
   "metadata": {},
   "source": [
    "## Table of Contents:\n",
    "* [Introduction](#introduction)\n",
    "* [Data Description](#Data-Description)\n",
    "* [Project Objectives](#Project-Objectives)\n",
    "* [Data Preparation](#Data-Preparation)\n",
    "* [Initial Pre-processing Phase](#Initial-Pre-processing-Phase)\n",
    "* [Exploratory Data Analysis (EDA)](#Exploratory-Data-Analysis-(EDA))\n",
    "    - [Overview of the Dataset](#Overview-of-the-Dataset)\n",
    "    - [Descriptive Statistical Analysis](#Descriptive-Statistical-Analysis)\n",
    "    - [General Correlation Analysis](#General-Correlation-Analysis)\n",
    "    - [Visual EDA](#Visual-EDA)\n",
    "        - [Distribution of Employment Status](#Distribution-of-Employment-Status)\n",
    "        - [Termination Reasons Distribution](#Termination-Reasons-Distribution)\n",
    "        - [Employee Distribution Across Departments](#Employee-Distribution-Across-Departments)\n",
    "        - [Diversity Profile](#Diversity-Profile)\n",
    "        - [Gender and Position-Based Salary Analysis](#Gender-and-Position-Based-Salary-Analysis)\n",
    "        - [Overall Performance Score Distribution](#Overall-Performance-Score-Distribution)\n",
    "        - [Recruitment Source Distribution and by Race Analysis](#Recruitment-Source-Distribution-and-by-Race-Analysis)\n",
    "        - [Exploring Department and Manager-Level Performance Analysis](#Exploring-Department-and-Manager-Level-Performance-Analysis)\n",
    "    - [Attrition Rate and Turnover Analysis](#Attrition-Rate-and-Turnover-Analysis)\n",
    "    - [Extending Correlation Analysis: A Deeper Dive](#Extending-Correlation-Analysis:-A-Deeper-Dive)\n",
    "        - [Salary and EngagementSurvey](#Salary-and-EngagementSurvey)\n",
    "        - [DaysLateLast30 and EngagementSurvey](#DaysLateLast30-and-EngagementSurvey)\n",
    "        - [Salary and PerformanceScore analysis](#Salary-and-PerformanceScore-analysis)\n",
    "        - [Salary and Employee Satisfaction analysis](#Salary-and-Employee-Satisfaction-analysis)\n",
    "        - [Salary Distribution across Departments](#Salary-Distribution-across-Departments)\n",
    "        - [Absences by Special Projects Count](#Absences-by-Special-Projects-Count)\n",
    "        - [Special Projects Count and Performance Score](#Special-Projects-Count-and-Performance-Score)"
   ]
  },
  {
   "cell_type": "markdown",
   "id": "064c99e1-c33e-484d-96a0-27fb8ab59d4a",
   "metadata": {},
   "source": [
    "## Introduction"
   ]
  },
  {
   "cell_type": "markdown",
   "id": "1d306c17-5d9c-43b3-a78d-a93725cbfd84",
   "metadata": {},
   "source": [
    "In this analysis, I explore a comprehensive human resources dataset covering various attributes like personal details (names, DOBs, age, gender, marital status) and employment specifics (date of hire, termination reasons, department, employment status, position title, pay rate, manager name, performance score). Recent additions include absences, most recent performance review date, and employee engagement score. My goal is to uncover interesting and actionable insights to enhance understanding of workforce dynamics and inform strategic decision-making."
   ]
  },
  {
   "cell_type": "code",
   "execution_count": null,
   "id": "bf31b6c2-9b00-4645-81d5-6b9c01b494e4",
   "metadata": {},
   "outputs": [],
   "source": []
  }
 ],
 "metadata": {
  "kernelspec": {
   "display_name": "Python 3 (ipykernel)",
   "language": "python",
   "name": "python3"
  },
  "language_info": {
   "codemirror_mode": {
    "name": "ipython",
    "version": 3
   },
   "file_extension": ".py",
   "mimetype": "text/x-python",
   "name": "python",
   "nbconvert_exporter": "python",
   "pygments_lexer": "ipython3",
   "version": "3.11.7"
  }
 },
 "nbformat": 4,
 "nbformat_minor": 5
}
